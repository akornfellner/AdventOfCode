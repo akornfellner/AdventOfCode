{
 "cells": [
  {
   "cell_type": "markdown",
   "metadata": {},
   "source": [
    "### Part One"
   ]
  },
  {
   "cell_type": "code",
   "execution_count": 11,
   "metadata": {},
   "outputs": [],
   "source": [
    "with open(\"input.txt\", \"r\") as file:\n",
    "    data = file.read().splitlines()"
   ]
  },
  {
   "cell_type": "code",
   "execution_count": 12,
   "metadata": {},
   "outputs": [],
   "source": [
    "lines = {}\n",
    "\n",
    "for line in data:\n",
    "    line = line.split(\": \")\n",
    "    lines[line[0]] = line[1]"
   ]
  },
  {
   "cell_type": "code",
   "execution_count": 13,
   "metadata": {},
   "outputs": [],
   "source": [
    "def value(key):\n",
    "    try:\n",
    "        v = int(lines[key])\n",
    "        return v\n",
    "    except:\n",
    "        left = lines[key][:4]\n",
    "        right = lines[key][7:]\n",
    "        if lines[key][5] == \"+\":\n",
    "            return value(left) + value(right)\n",
    "        elif lines[key][5] == \"*\":\n",
    "            return value(left) * value(right)\n",
    "        elif lines[key][5] == \"-\":\n",
    "            return value(left) - value(right)\n",
    "        elif lines[key][5] == \"/\":\n",
    "            return value(left) / value(right)"
   ]
  },
  {
   "cell_type": "code",
   "execution_count": 14,
   "metadata": {},
   "outputs": [
    {
     "data": {
      "text/plain": [
       "21208142603224.0"
      ]
     },
     "execution_count": 14,
     "metadata": {},
     "output_type": "execute_result"
    }
   ],
   "source": [
    "value(\"root\")"
   ]
  },
  {
   "cell_type": "markdown",
   "metadata": {},
   "source": [
    "### Part Two"
   ]
  },
  {
   "cell_type": "code",
   "execution_count": 15,
   "metadata": {},
   "outputs": [],
   "source": [
    "from sympy import *\n",
    "\n",
    "x = symbols(\"x\")"
   ]
  },
  {
   "cell_type": "code",
   "execution_count": 16,
   "metadata": {},
   "outputs": [],
   "source": [
    "def value(key, x):\n",
    "    if key == \"humn\":\n",
    "        return x\n",
    "    try:\n",
    "        v = int(lines[key])\n",
    "        return v\n",
    "    except:\n",
    "        left = lines[key][:4]\n",
    "        right = lines[key][7:]\n",
    "        result = 0\n",
    "        if lines[key][5] == \"+\":\n",
    "            return value(left, x) + value(right, x)\n",
    "        elif lines[key][5] == \"*\":\n",
    "            return value(left, x) * value(right, x)\n",
    "        elif lines[key][5] == \"-\":\n",
    "            return value(left, x) - value(right, x)\n",
    "        elif lines[key][5] == \"/\":\n",
    "            return value(left, x) / value(right, x)"
   ]
  },
  {
   "cell_type": "code",
   "execution_count": 17,
   "metadata": {},
   "outputs": [
    {
     "data": {
      "text/latex": [
       "$\\displaystyle 3882224466191.0$"
      ],
      "text/plain": [
       "3882224466191.00"
      ]
     },
     "execution_count": 17,
     "metadata": {},
     "output_type": "execute_result"
    }
   ],
   "source": [
    "left = lines[\"root\"][:4]\n",
    "right = lines[\"root\"][7:]\n",
    "\n",
    "eq = Eq(value(left, x), value(right, x))\n",
    "solve(eq, x)[0].round(0)"
   ]
  },
  {
   "cell_type": "code",
   "execution_count": null,
   "metadata": {},
   "outputs": [],
   "source": []
  }
 ],
 "metadata": {
  "kernelspec": {
   "display_name": "math",
   "language": "python",
   "name": "math"
  },
  "language_info": {
   "codemirror_mode": {
    "name": "ipython",
    "version": 3
   },
   "file_extension": ".py",
   "mimetype": "text/x-python",
   "name": "python",
   "nbconvert_exporter": "python",
   "pygments_lexer": "ipython3",
   "version": "3.10.12"
  }
 },
 "nbformat": 4,
 "nbformat_minor": 2
}
